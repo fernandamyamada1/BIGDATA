{
 "cells": [
  {
   "cell_type": "markdown",
   "metadata": {},
   "source": [
    "**K-medoids algorithm for color clustering**\n",
    "<br>\n",
    "<br>\n",
    "In this example, we apply the k-medoids algorithm in order to cluster the image colors, a process that reduces the number of distinct colors used in an image.\n",
    "<br>\n",
    "<br>\n",
    "The image can be downloaded in the following link: https://d3w52z135jkm97.cloudfront.net/uploads/donor/photo/15599/profile_48x48_Pat_Hector.jpg"
   ]
  },
  {
   "cell_type": "code",
   "execution_count": 140,
   "metadata": {},
   "outputs": [
    {
     "name": "stdout",
     "output_type": "stream",
     "text": [
      "48 48\n"
     ]
    },
    {
     "data": {
      "image/png": "[encoded data removed]",
      "text/plain": [
       "<matplotlib.figure.Figure at 0x7fef1cca0f50>"
      ]
     },
     "metadata": {},
     "output_type": "display_data"
    }
   ],
   "source": [
    "import os\n",
    "import numpy as np\n",
    "import math\n",
    "from pyspark import SparkContext\n",
    "from pyspark import SparkConf\n",
    "import matplotlib.pyplot as plt\n",
    "import matplotlib.image as mpimg\n",
    "sc = SparkContext.getOrCreate()\n",
    "\n",
    "#Read file\n",
    "filename = os.path.join(\"Data\",\"profile2.jpg\")\n",
    "Img=mpimg.imread(filename)\n",
    "height=len(Img)\n",
    "width=len(Img[0])\n",
    "n=3\n",
    "k=2\n",
    "print width, height\n",
    "plt.imshow(Img)\n",
    "plt.show()\n"
   ]
  },
  {
   "cell_type": "code",
   "execution_count": 141,
   "metadata": {},
   "outputs": [],
   "source": [
    "from scipy.spatial import distance\n",
    "from scipy.spatial.distance import cdist\n",
    "\n",
    "#Return the distance between two points\n",
    "def DistPP(point1, point2):\n",
    "    sumDist=0\n",
    "    for i in range(0,n):\n",
    "        pointA=toFloat(point1[i])\n",
    "        pointB=toFloat(point2[i])\n",
    "        sumDist=sumDist+((pointA-pointB)**2)\n",
    "    return np.sqrt(sumDist)\n",
    "\n",
    "#Return the centroid of a point\n",
    "def Cluster(point, Centroids):\n",
    "    mini=0\n",
    "    for i in range(1,k):\n",
    "        if DistPP(Centroids[mini], point) > DistPP(Centroids[i], point):\n",
    "            mini=i\n",
    "    return mini  \n",
    "\n",
    "#Return the centroid array of a point\n",
    "def ClusterArray(point, Centroids):\n",
    "    mini=0\n",
    "    for i in range(1,2):\n",
    "        if DistPP(Centroids[mini], point) > DistPP(Centroids[i], point):\n",
    "            mini=i\n",
    "    return Centroids[mini]  \n",
    "\n",
    "#Convert numeric to float\n",
    "def toFloat(x):\n",
    "    try:\n",
    "        return float(x)\n",
    "    except(ValueError, TypeError):\n",
    "        return   0.0\n",
    "\n",
    "#Convert matrix to list in order to create a RDD\n",
    "def toRDD(Img):\n",
    "    listR=[None]*(height*width)\n",
    "    for i in range(0,height):\n",
    "        for j in range(0, width):\n",
    "            listR[width*i+j]= Img[i][j]\n",
    "    return listR"
   ]
  },
  {
   "cell_type": "code",
   "execution_count": 142,
   "metadata": {},
   "outputs": [
    {
     "name": "stdout",
     "output_type": "stream",
     "text": [
      "[[192, 152, 127], [220, 221, 215]]\n",
      "[ inf  inf]\n"
     ]
    }
   ],
   "source": [
    "#Create a RDD considering the image\n",
    "ImagePre=[list(t) for t in set(tuple(element) for element in toRDD(Img))]\n",
    "ImageIni=sc.parallelize(ImagePre)\n",
    "\n",
    "#Initial centroids \n",
    "from numpy import inf\n",
    "Centroids= ImageIni.takeSample(True, k, 1)\n",
    "Costs=np.empty(k)\n",
    "Costs.fill(inf)\n",
    "Finish=False\n",
    "Iter=0          \n",
    "print Centroids\n",
    "print Costs"
   ]
  },
  {
   "cell_type": "code",
   "execution_count": 143,
   "metadata": {
    "collapsed": true
   },
   "outputs": [],
   "source": [
    "from  operator import add\n",
    "while Finish==False or Iter<=10:\n",
    "    Iter=Iter+1\n",
    "    #Determine the clusters and current cost\n",
    "    ImageClusters = (ImageIni\n",
    "               .map(lambda x:( Cluster(x, Centroids), x))\n",
    "                )\n",
    "    ImageDistances = (ImageClusters\n",
    "               .map(lambda x: (x[0], DistPP(Centroids[x[0]], x[1])))\n",
    "               )\n",
    "    Finish=True\n",
    "    for i in range(0,k):\n",
    "        #Separate the clusters\n",
    "        Points=(ImageClusters\n",
    "          .filter(lambda x: x[0]==i)\n",
    "          .map(lambda x: x[1])\n",
    "          .zipWithUniqueId()\n",
    "          .map(lambda x: (x[1], x[0]))\n",
    "          )\n",
    "        #Combine the elements of the clusters to calculate the distances\n",
    "        Combinations=Points.cartesian(Points)\n",
    "        #Calculate the distance between each pair of elements of clusters\n",
    "        Distances=(Combinations\n",
    "            .map(lambda x: (x[0][0], DistPP(x[0][1],x[1][1])))\n",
    "          )\n",
    "        #Determine the cost of each element of the clusters\n",
    "        SumCosts=(Distances\n",
    "           .reduceByKey(add)\n",
    "           )\n",
    "        #Sort the costs in order to find the minimum costs\n",
    "        Sorted=sorted(SumCosts.collect(), key=lambda x: x[1])\n",
    "        #Define the new costs\n",
    "        NewCost=Sorted[0][1]\n",
    "        #Check if the algorithm terminates\n",
    "        if NewCost<Costs[i]:\n",
    "            Costs[i]=NewCost\n",
    "            Finish=False\n",
    "        #Find the id of the new centroids\n",
    "        idNew=Sorted[0][0]\n",
    "        newCentroid=(Points\n",
    "             .filter(lambda x: x[0]==idNew)\n",
    "        ).collect()[0][1]\n",
    "        Centroids[i]=newCentroid"
   ]
  },
  {
   "cell_type": "code",
   "execution_count": 153,
   "metadata": {},
   "outputs": [],
   "source": [
    "#Find the final clusters\n",
    "ImageClustersFinal =(ImageIni\n",
    "               .map(lambda x:( ClusterArray(x, Centroids), x))\n",
    "                ).collect()"
   ]
  },
  {
   "cell_type": "code",
   "execution_count": 155,
   "metadata": {},
   "outputs": [
    {
     "data": {
      "image/png": "[encoded data removed]",
      "text/plain": [
       "<matplotlib.figure.Figure at 0x7fef340c6310>"
      ]
     },
     "metadata": {},
     "output_type": "display_data"
    }
   ],
   "source": [
    "#Print the image output\n",
    "ImageFinal=Img\n",
    "ImageFinal.setflags(write=1)\n",
    "for i in range(0,height):\n",
    "        for j in range(0, width):\n",
    "            for k in range(0, ImageIni.count()):\n",
    "                if ImageFinal[i][j][0]==ImageClustersFinal[k][1][0] and ImageFinal[i][j][1]==ImageClustersFinal[k][1][1] and ImageFinal[i][j][2]==ImageClustersFinal[k][1][2]:\n",
    "                    ImageFinal[i][j]= ImageClustersFinal[k][0]\n",
    "\n",
    "plt.imshow(ImageFinal)\n",
    "plt.show()"
   ]
  }
 ],
 "metadata": {
  "kernelspec": {
   "display_name": "Python 3",
   "language": "python",
   "name": "python3"
  },
  "language_info": {
   "codemirror_mode": {
    "name": "ipython",
    "version": 3
   },
   "file_extension": ".py",
   "mimetype": "text/x-python",
   "name": "python",
   "nbconvert_exporter": "python",
   "pygments_lexer": "ipython3",
   "version": "3.6.3"
  }
 },
 "nbformat": 4,
 "nbformat_minor": 2
}
