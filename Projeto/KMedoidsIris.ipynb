{
 "cells": [
  {
   "cell_type": "markdown",
   "metadata": {},
   "source": [
    "**K-medoids algorithm**\n",
    "<br>\n",
    "<br>\n",
    "In this example, we used the iris dataset, which consists of 50 samples from each of three species of Iris (Iris setosa, Iris virginica and Iris versicolor), resulting in 150 samples. Four features were measured from each sample: the length and the width of the sepals and petals, in centimetres.\n",
    "<br>\n",
    "<br>\n",
    "The dataset can be downloaded in the following link: https://archive.ics.uci.edu/ml/machine-learning-databases/iris/iris.data."
   ]
  },
  {
   "cell_type": "code",
   "execution_count": 1,
   "metadata": {},
   "outputs": [
    {
     "name": "stdout",
     "output_type": "stream",
     "text": [
      "Campos disponíveis: \"sepal.length\",\"sepal.width\",\"petal.length\",\"petal.width\",\"variety\"\n",
      "5.1,3.5,1.4,.2,\"Setosa\"\n",
      "[array([u'5.1', u'3.5', u'1.4', u'.2'],\n",
      "      dtype='<U3')]\n",
      "[array([u'4.8', u'3.4', u'1.9', u'.2'],\n",
      "      dtype='<U3'), array([u'6.7', u'3', u'5', u'1.7'],\n",
      "      dtype='<U3'), array([u'4.8', u'3.4', u'1.6', u'.2'],\n",
      "      dtype='<U3')]\n",
      "[ inf  inf  inf]\n"
     ]
    }
   ],
   "source": [
    "import os\n",
    "import numpy as np\n",
    "import math\n",
    "from pyspark import SparkContext\n",
    "from pyspark import SparkConf\n",
    "sc = SparkContext.getOrCreate()\n",
    "\n",
    "#Read file\n",
    "filename = os.path.join(\"Data\",\"iris.csv\")\n",
    "IrisRDD = sc.textFile(filename,8)\n",
    "header = IrisRDD.take(1)[0]\n",
    "print (\"Campos disponíveis: {}\".format(header))\n",
    "\n",
    "#Headless\n",
    "IrisHeadlessRDD = IrisRDD.filter(lambda x : x!=header)\n",
    "firstObject = IrisHeadlessRDD.take(1)[0]\n",
    "print (firstObject)\n",
    "\n",
    "#Preprocessing\n",
    "k=3 #number of clusters\n",
    "n=4 #number of features\n",
    "IrisPre = (IrisHeadlessRDD\n",
    "          .map(lambda x: x.split(','))\n",
    "          )    \n",
    "IrisIni = (IrisPre\n",
    "          .map(lambda x:  np.array([x[0], x[1], x[2], x[3]]))\n",
    "          )\n",
    "print IrisIni.take(1)\n",
    "           \n",
    "#Initial centroids\n",
    "from numpy import inf\n",
    "Centroids= IrisIni.takeSample(True, k, 1)\n",
    "Costs=np.empty(k)\n",
    "Costs.fill(inf)\n",
    "Finish=False\n",
    "Iter=0          \n",
    "print Centroids\n",
    "print Costs"
   ]
  },
  {
   "cell_type": "code",
   "execution_count": 2,
   "metadata": {
    "collapsed": true
   },
   "outputs": [],
   "source": [
    "from scipy.spatial import distance\n",
    "from scipy.spatial.distance import cdist\n",
    "\n",
    "#Return the distance between two points\n",
    "def DistPP(point1, point2):\n",
    "    sumDist=0\n",
    "    for i in range(0,n):\n",
    "        pointA=toFloat(point1[i])\n",
    "        pointB=toFloat(point2[i])\n",
    "        sumDist=sumDist+((pointA-pointB)**2)\n",
    "    return np.sqrt(sumDist)\n",
    "\n",
    "#Return the centroid of a point\n",
    "def Cluster(point, Centroids):\n",
    "    mini=0\n",
    "    for i in range(1,k):\n",
    "        if DistPP(Centroids[mini], point) > DistPP(Centroids[i], point):\n",
    "            mini=i\n",
    "    return mini  \n",
    "\n",
    "#Convert numeric to float\n",
    "def toFloat(x):\n",
    "    try:\n",
    "        return float(x)\n",
    "    except(ValueError, TypeError):\n",
    "        return   0.0"
   ]
  },
  {
   "cell_type": "code",
   "execution_count": 8,
   "metadata": {
    "collapsed": true
   },
   "outputs": [],
   "source": [
    "from  operator import add\n",
    "while Finish==False or Iter<=10:\n",
    "    Iter=Iter+1\n",
    "    #Determine the clusters and current cost\n",
    "    IrisClusters = (IrisIni\n",
    "               .map(lambda x:( Cluster(x, centroids), x))\n",
    "                )\n",
    "    IrisDistances = (IrisClusters\n",
    "               .map(lambda x: (x[0], DistPP(Centroids[x[0]], x[1])))\n",
    "               )\n",
    "    Finish=True\n",
    "    for i in range(0,k):\n",
    "        #Separate the clusters\n",
    "        Points=(IrisClusters\n",
    "          .filter(lambda x: x[0]==i)\n",
    "          .map(lambda x: x[1])\n",
    "          .zipWithUniqueId()\n",
    "          .map(lambda x: (x[1], x[0]))\n",
    "          )\n",
    "        #Combine the elements of the clusters to calculate the distances\n",
    "        Combinations=Points.cartesian(Points)\n",
    "        #Calculate the distance between each pair of elements of clusters\n",
    "        Distances=(Combinations\n",
    "            .map(lambda x: (x[0][0], DistPP(x[0][1],x[1][1])))\n",
    "          )\n",
    "        #Determine the cost of each element of the clusters\n",
    "        SumCosts=(Distances\n",
    "           .reduceByKey(add)\n",
    "           )\n",
    "        #Sort the costs in order to find the minimum costs\n",
    "        Sorted=sorted(SumCosts.collect(), key=lambda x: x[1])\n",
    "        #Define the new costs\n",
    "        NewCost=Sorted[0][1]\n",
    "        #Check if the algorithm terminates\n",
    "        if NewCost<Costs[i]:\n",
    "            Costs[i]=NewCost\n",
    "            Finish=False\n",
    "        #Find the id of the new centroids\n",
    "        idNew=Sorted[0][0]\n",
    "        newCentroid=(Points\n",
    "             .filter(lambda x: x[0]==idNew)\n",
    "        ).collect()[0][1]\n",
    "        Centroids[i]=newCentroid\n"
   ]
  },
  {
   "cell_type": "code",
   "execution_count": 9,
   "metadata": {},
   "outputs": [
    {
     "name": "stdout",
     "output_type": "stream",
     "text": [
      "2\n",
      "0\n",
      "1\n"
     ]
    }
   ],
   "source": [
    "#Print the cluster assigned to each class\n",
    "IrisClusters = (IrisPre\n",
    "                .map(lambda x:( Cluster(np.array([x[0],x[1], x[2], x[3]]), Centroids), np.array([x[0],x[1], x[2], x[3]]), x[4]))\n",
    "                )\n",
    "SetosaCluster = sorted((IrisClusters\n",
    "          .filter(lambda x: x[2] == '\"Setosa\"')\n",
    "          .map(lambda x: ( x[0],1))\n",
    "          .reduceByKey(add) \n",
    "        ).collect(), key= lambda x:x[1], reverse=True)[0][0]\n",
    "VersicolorCluster = sorted((IrisClusters\n",
    "          .filter(lambda x: x[2] == '\"Versicolor\"')\n",
    "          .map(lambda x: ( x[0],1))\n",
    "          .reduceByKey(add) \n",
    "        ).collect(), key= lambda x:x[1], reverse=True)[0][0]\n",
    "VirginicaCluster = sorted((IrisClusters\n",
    "          .filter(lambda x: x[2] == '\"Virginica\"')\n",
    "          .map(lambda x: ( x[0],1))\n",
    "          .reduceByKey(add) \n",
    "        ).collect(), key= lambda x:x[1], reverse=True)[0][0]\n",
    "print SetosaCluster\n",
    "print VersicolorCluster\n",
    "print VirginicaCluster"
   ]
  },
  {
   "cell_type": "code",
   "execution_count": 10,
   "metadata": {},
   "outputs": [
    {
     "name": "stdout",
     "output_type": "stream",
     "text": [
      "0.906666666667\n"
     ]
    }
   ],
   "source": [
    "#Check the results\n",
    "CheckSetosaCluster=( IrisClusters\n",
    "        .filter(lambda x: x[0]==SetosaCluster and x[2]=='\"Setosa\"')\n",
    "       ).count()\n",
    "CheckVersicolorCluster=( IrisClusters\n",
    "        .filter(lambda x: x[0]==VersicolorCluster and x[2]=='\"Versicolor\"')\n",
    "       ).count()\n",
    "CheckVirginicaCluster=( IrisClusters\n",
    "        .filter(lambda x: x[0]==VirginicaCluster and x[2]=='\"Virginica\"')\n",
    "       ).count()\n",
    "Total= IrisPre.count()\n",
    "print float((CheckSetosaCluster+CheckVersicolorCluster+CheckVirginicaCluster))/float(Total)"
   ]
  },
  {
   "cell_type": "code",
   "execution_count": 11,
   "metadata": {},
   "outputs": [
    {
     "data": {
      "image/png": "[encoded data removed]",
      "text/plain": [
       "<matplotlib.figure.Figure at 0x7fda2f48bd10>"
      ]
     },
     "metadata": {},
     "output_type": "display_data"
    }
   ],
   "source": [
    "import matplotlib.pyplot as plt\n",
    "\n",
    "#Plot the results considering the sepal features\n",
    "\n",
    "Xlabel='sepal.length'\n",
    "Ylabel='sepal.width'\n",
    "\n",
    "Data0= IrisClusters.filter(lambda x: x[0]==0).map(lambda x: (float(x[1][0]), float(x[1][1]))).collect()\n",
    "Data1= IrisClusters.filter(lambda x: x[0]==1).map(lambda x: (float(x[1][0]), float(x[1][1]))).collect()\n",
    "Data2= IrisClusters.filter(lambda x: x[0]==2).map(lambda x: (float(x[1][0]), float(x[1][1]))).collect()\n",
    "\n",
    "\n",
    "X0,Y0 = zip(*Data0)\n",
    "X1,Y1 = zip(*Data1)\n",
    "X2,Y2 = zip(*Data2)\n",
    "\n",
    "fig = plt.figure(figsize=(8,4.2), facecolor='white', edgecolor='white')\n",
    "plt.scatter(X0,Y0, c='r')\n",
    "plt.scatter(X1,Y1, c='g')\n",
    "plt.scatter(X2,Y2, c='b')\n",
    "plt.grid(b=True, which='major', axis='y')\n",
    "plt.xlabel(Xlabel)\n",
    "plt.ylabel(Ylabel)\n",
    "plt.show()\n",
    "pass"
   ]
  },
  {
   "cell_type": "code",
   "execution_count": 12,
   "metadata": {},
   "outputs": [
    {
     "data": {
      "image/png": "[encoded data removed]",
      "text/plain": [
       "<matplotlib.figure.Figure at 0x7fda2f4173d0>"
      ]
     },
     "metadata": {},
     "output_type": "display_data"
    }
   ],
   "source": [
    "#Plot the results considering the petal features\n",
    "\n",
    "X2label='petal.length'\n",
    "Y2label='petal.width'\n",
    "\n",
    "Data0_2= IrisClusters.filter(lambda x: x[0]==0).map(lambda x: (float(x[1][2]), float(x[1][3]))).collect()\n",
    "Data1_2= IrisClusters.filter(lambda x: x[0]==1).map(lambda x: (float(x[1][2]), float(x[1][3]))).collect()\n",
    "Data2_2= IrisClusters.filter(lambda x: x[0]==2).map(lambda x: (float(x[1][2]), float(x[1][3]))).collect()\n",
    "\n",
    "\n",
    "X0_2,Y0_2 = zip(*Data0_2)\n",
    "X1_2,Y1_2 = zip(*Data1_2)\n",
    "X2_2,Y2_2 = zip(*Data2_2)\n",
    "\n",
    "fig = plt.figure(figsize=(8,4.2), facecolor='white', edgecolor='white')\n",
    "plt.scatter(X0_2,Y0_2, c='r')\n",
    "plt.scatter(X1_2,Y1_2, c='g')\n",
    "plt.scatter(X2_2,Y2_2, c='b')\n",
    "plt.grid(b=True, which='major', axis='y')\n",
    "plt.xlabel(X2label)\n",
    "plt.ylabel(Y2label)\n",
    "plt.show()\n",
    "pass"
   ]
  }
 ],
 "metadata": {
  "kernelspec": {
   "display_name": "Python 3",
   "language": "python",
   "name": "python3"
  },
  "language_info": {
   "codemirror_mode": {
    "name": "ipython",
    "version": 3
   },
   "file_extension": ".py",
   "mimetype": "text/x-python",
   "name": "python",
   "nbconvert_exporter": "python",
   "pygments_lexer": "ipython3",
   "version": "3.6.3"
  }
 },
 "nbformat": 4,
 "nbformat_minor": 2
}
